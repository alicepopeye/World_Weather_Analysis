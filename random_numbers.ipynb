{
 "cells": [
  {
   "cell_type": "markdown",
   "metadata": {},
   "source": [
    "#  6.1.4  \n",
    "# The random module  \n",
    "import random  \n",
    "random.random()  \n",
    "random.randint(lower,upper)  \n",
    "random.randrange(lower, upper, step = )  \n",
    "random.uniform(lower, upper)  "
   ]
  },
  {
   "cell_type": "code",
   "execution_count": 1,
   "metadata": {},
   "outputs": [],
   "source": [
    "# Import dependencies.\n",
    "\n",
    "import random\n",
    "import numpy as np  #(Numpy module has a built-in random module. No need to import random module if we import Numpy module)\n",
    "import timeit\n"
   ]
  },
  {
   "cell_type": "code",
   "execution_count": 2,
   "metadata": {},
   "outputs": [
    {
     "data": {
      "text/plain": [
       "-20"
      ]
     },
     "execution_count": 2,
     "metadata": {},
     "output_type": "execute_result"
    }
   ],
   "source": [
    "# random.randint() \n",
    "# integer\n",
    "# return only one integer bewteen the given intervals\n",
    "\n",
    "random.randint(-90,90)"
   ]
  },
  {
   "cell_type": "code",
   "execution_count": 3,
   "metadata": {},
   "outputs": [
    {
     "data": {
      "text/plain": [
       "0.3290811966785986"
      ]
     },
     "execution_count": 3,
     "metadata": {},
     "output_type": "execute_result"
    }
   ],
   "source": [
    "# random.random()\n",
    "# floating-point decimal\n",
    "# bewteen 0 and 1.0\n",
    "\n",
    "random.random()"
   ]
  },
  {
   "cell_type": "code",
   "execution_count": 4,
   "metadata": {},
   "outputs": [
    {
     "data": {
      "text/plain": [
       "46.833170668415455"
      ]
     },
     "execution_count": 4,
     "metadata": {},
     "output_type": "execute_result"
    }
   ],
   "source": [
    "# combine .randint() and .random(), we got the a random latitudes\n",
    "random_number = random.randint(-90,89) + random.random()\n",
    "random_number"
   ]
  },
  {
   "cell_type": "code",
   "execution_count": 5,
   "metadata": {},
   "outputs": [
    {
     "data": {
      "text/plain": [
       "[-66.30247778768387,\n",
       " -22.508936536872472,\n",
       " 85.35544113637056,\n",
       " -79.04702393061771,\n",
       " 45.551032450067524,\n",
       " 13.491334866333768,\n",
       " -39.746329293357135,\n",
       " 48.27679108711692,\n",
       " 43.35772342037381,\n",
       " -16.900431014765108]"
      ]
     },
     "execution_count": 5,
     "metadata": {},
     "output_type": "execute_result"
    }
   ],
   "source": [
    "# Generate 10 random floating-point decimal latitudes bwteen -90 and 89\n",
    "\n",
    "x = 1\n",
    "latitudes = []\n",
    "\n",
    "while x < 11:\n",
    "    random_lat = random.randint(-90,89) + random.random()\n",
    "    latitudes.append(random_lat)\n",
    "    x += 1\n",
    "    \n",
    "latitudes"
   ]
  },
  {
   "cell_type": "code",
   "execution_count": 6,
   "metadata": {},
   "outputs": [
    {
     "data": {
      "text/plain": [
       "33"
      ]
     },
     "execution_count": 6,
     "metadata": {},
     "output_type": "execute_result"
    }
   ],
   "source": [
    "# random.randrange()\n",
    "# return whole integer\n",
    "# parameters: lower and upper limits\n",
    "# optional: step = (any integer), the result is any number increments from the lower to te upper limit\n",
    "\n",
    "random.randrange(-90,90, step =1)"
   ]
  },
  {
   "cell_type": "code",
   "execution_count": 7,
   "metadata": {},
   "outputs": [
    {
     "data": {
      "text/plain": [
       "82"
      ]
     },
     "execution_count": 7,
     "metadata": {},
     "output_type": "execute_result"
    }
   ],
   "source": [
    "random.randrange(-90,90, step =4)"
   ]
  },
  {
   "cell_type": "code",
   "execution_count": 8,
   "metadata": {},
   "outputs": [
    {
     "data": {
      "text/plain": [
       "26.2505103845848"
      ]
     },
     "execution_count": 8,
     "metadata": {},
     "output_type": "execute_result"
    }
   ],
   "source": [
    "# random.uniform()\n",
    "# a floating-point decimal number\n",
    "# between two given number\n",
    "\n",
    "random.uniform(-90,90)"
   ]
  },
  {
   "cell_type": "markdown",
   "metadata": {},
   "source": [
    "# np.random module\n",
    "import NumPy as np (if we import NumPy, no need to import random module)  \n",
    "np.random.uniform(lower, upper, size  = )"
   ]
  },
  {
   "cell_type": "code",
   "execution_count": 9,
   "metadata": {},
   "outputs": [
    {
     "data": {
      "text/plain": [
       "-76.42704709928636"
      ]
     },
     "execution_count": 9,
     "metadata": {},
     "output_type": "execute_result"
    }
   ],
   "source": [
    "# np.random\n",
    "# OPTION 1\n",
    "np.random.uniform(-90.000,90.000)\n",
    "\n",
    "# OPTION 2\n",
    "np.random.uniform(low=-90, high=90)"
   ]
  },
  {
   "cell_type": "code",
   "execution_count": 10,
   "metadata": {},
   "outputs": [
    {
     "data": {
      "text/plain": [
       "array([-18.2443754 ,  26.39960897, -72.14859945,  13.18329616,\n",
       "       -84.53487577,  61.6471548 ,  -5.08893047,  71.78483444,\n",
       "         6.1083201 ,  42.73671502])"
      ]
     },
     "execution_count": 10,
     "metadata": {},
     "output_type": "execute_result"
    }
   ],
   "source": [
    "# np.random(  ,  , sixe = 10)\n",
    "# output: an array of 10 floating-point deciaml number\n",
    "np.random.uniform(-90.000,90.000,size=10)"
   ]
  },
  {
   "cell_type": "markdown",
   "metadata": {},
   "source": [
    "# timeit module\n",
    "import timeit  \n",
    "to test how long a piece of code/function takes to run\n",
    "%timeit before the line of code\n",
    "the speed is depend on the user's computer processing sppeed and RAM"
   ]
  },
  {
   "cell_type": "code",
   "execution_count": 11,
   "metadata": {},
   "outputs": [
    {
     "name": "stdout",
     "output_type": "stream",
     "text": [
      "15.5 µs ± 269 ns per loop (mean ± std. dev. of 7 runs, 100000 loops each)\n"
     ]
    }
   ],
   "source": [
    "%timeit np.random.uniform(-90.000,90.000, size =1500)"
   ]
  },
  {
   "cell_type": "code",
   "execution_count": 12,
   "metadata": {},
   "outputs": [
    {
     "name": "stdout",
     "output_type": "stream",
     "text": [
      "1.99 ms ± 63.2 µs per loop (mean ± std. dev. of 7 runs, 100 loops each)\n"
     ]
    }
   ],
   "source": [
    "# use a While loops\n",
    "\n",
    "def latitudes(size):\n",
    "    latitudes =[]\n",
    "    x=0\n",
    "    \n",
    "    while x < (size):\n",
    "        random_lat=random.randint(-90,90)+random.random()\n",
    "        latitudes.append(random_lat)\n",
    "        x+=1\n",
    "    \n",
    "    return latitudes\n",
    "\n",
    "# call the function with 1500\n",
    "%timeit latitudes(1500)"
   ]
  },
  {
   "cell_type": "code",
   "execution_count": 13,
   "metadata": {},
   "outputs": [
    {
     "name": "stdout",
     "output_type": "stream",
     "text": [
      "35.2 ns ± 5.18 ns per loop (mean ± std. dev. of 7 runs, 10000000 loops each)\n"
     ]
    }
   ],
   "source": [
    "# use a for loops\n",
    "\n",
    "def latitudes():\n",
    "    latitudes=[]\n",
    "    size= range(1501)\n",
    "    \n",
    "    for i in size:\n",
    "        random_lat=random.randint(-90,90)+random.random()\n",
    "        latitudes.append(random_lat)\n",
    "        \n",
    "    return latitudes\n",
    "    \n",
    "#call the function\n",
    "%timeit latitudes  \n"
   ]
  }
 ],
 "metadata": {
  "kernelspec": {
   "display_name": "PythonData",
   "language": "python",
   "name": "pythondata"
  },
  "language_info": {
   "codemirror_mode": {
    "name": "ipython",
    "version": 3
   },
   "file_extension": ".py",
   "mimetype": "text/x-python",
   "name": "python",
   "nbconvert_exporter": "python",
   "pygments_lexer": "ipython3",
   "version": "3.7.9"
  }
 },
 "nbformat": 4,
 "nbformat_minor": 4
}
